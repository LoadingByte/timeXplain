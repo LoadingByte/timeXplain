{
 "cells": [
  {
   "cell_type": "markdown",
   "metadata": {},
   "source": [
    "# Classifiers\n",
    "\n",
    "This notebook demonstrates all relevant time series classifiers provided by the experiments module."
   ]
  },
  {
   "cell_type": "code",
   "execution_count": 1,
   "metadata": {},
   "outputs": [],
   "source": [
    "import sys\n",
    "import numpy as np\n",
    "import matplotlib.pyplot as plt\n",
    "\n",
    "from sklearn.metrics import accuracy_score\n",
    "\n",
    "sys.path.append(\"../..\")\n",
    "import experiments.base as ex"
   ]
  },
  {
   "cell_type": "code",
   "execution_count": 2,
   "metadata": {},
   "outputs": [],
   "source": [
    "X_train, y_train, X_test, y_test = ex.dataset(\"ucr\", \"GunPoint\")"
   ]
  },
  {
   "cell_type": "markdown",
   "metadata": {},
   "source": [
    "## Rotation Forest"
   ]
  },
  {
   "cell_type": "code",
   "execution_count": 3,
   "metadata": {},
   "outputs": [],
   "source": [
    "rotation_forest = ex.classifiers.RotationForestClassifier()\n",
    "rotation_forest.fit(X_train, y_train);"
   ]
  },
  {
   "cell_type": "code",
   "execution_count": 4,
   "metadata": {},
   "outputs": [
    {
     "name": "stdout",
     "output_type": "stream",
     "text": [
      "Rotation Forest accuracy: 0.9\n"
     ]
    }
   ],
   "source": [
    "print(\"Rotation Forest accuracy: \" + str(accuracy_score(y_test, rotation_forest.predict(X_test))))"
   ]
  },
  {
   "cell_type": "markdown",
   "metadata": {},
   "source": [
    "## Support Vector Machine"
   ]
  },
  {
   "cell_type": "code",
   "execution_count": 5,
   "metadata": {},
   "outputs": [],
   "source": [
    "svc_linear = ex.classifiers.TimeSeriesSVC(kernel=\"linear\")\n",
    "svc_linear.fit(X_train, y_train);"
   ]
  },
  {
   "cell_type": "code",
   "execution_count": 6,
   "metadata": {},
   "outputs": [
    {
     "name": "stdout",
     "output_type": "stream",
     "text": [
      "SVM w/ linear kernel accuracy: 0.8866666666666667\n"
     ]
    }
   ],
   "source": [
    "print(\"SVM w/ linear kernel accuracy: \" + str(accuracy_score(y_test, svc_linear.predict(X_test))))"
   ]
  },
  {
   "cell_type": "markdown",
   "metadata": {},
   "source": [
    "## ResNet"
   ]
  },
  {
   "cell_type": "code",
   "execution_count": 7,
   "metadata": {},
   "outputs": [],
   "source": [
    "resnet = ex.classifiers.Resnet()\n",
    "resnet.fit(X_train, y_train, epochs=50);"
   ]
  },
  {
   "cell_type": "code",
   "execution_count": 8,
   "metadata": {},
   "outputs": [
    {
     "name": "stdout",
     "output_type": "stream",
     "text": [
      "ResNet acuracy: 0.7133333333333334\n"
     ]
    }
   ],
   "source": [
    "print(\"ResNet acuracy: \" + str(accuracy_score(y_test, resnet.predict(X_test))))"
   ]
  },
  {
   "cell_type": "markdown",
   "metadata": {},
   "source": [
    "## Time Series Forest"
   ]
  },
  {
   "cell_type": "code",
   "execution_count": 9,
   "metadata": {},
   "outputs": [],
   "source": [
    "time_series_forest = ex.classifiers.TimeSeriesForestClassifier(n_estimators=100)\n",
    "time_series_forest.fit(X_train, y_train);"
   ]
  },
  {
   "cell_type": "code",
   "execution_count": 10,
   "metadata": {},
   "outputs": [
    {
     "name": "stdout",
     "output_type": "stream",
     "text": [
      "Time Series Forest accuracy: 0.9466666666666667\n"
     ]
    }
   ],
   "source": [
    "print(\"Time Series Forest accuracy: \" + str(accuracy_score(y_test, time_series_forest.predict(X_test))))"
   ]
  },
  {
   "cell_type": "markdown",
   "metadata": {},
   "source": [
    "## Shapelet Transform"
   ]
  },
  {
   "cell_type": "code",
   "execution_count": 11,
   "metadata": {},
   "outputs": [],
   "source": [
    "shapelet_transform = ex.classifiers.ShapeletTransformClassifier(time_contract_in_mins=1)\n",
    "shapelet_transform.fit(X_train, y_train);"
   ]
  },
  {
   "cell_type": "code",
   "execution_count": 12,
   "metadata": {},
   "outputs": [
    {
     "name": "stdout",
     "output_type": "stream",
     "text": [
      "Shapelet Transform accuracy: 0.9933333333333333\n"
     ]
    }
   ],
   "source": [
    "print(\"Shapelet Transform accuracy: \" + str(accuracy_score(y_test, shapelet_transform.predict(X_test))))"
   ]
  },
  {
   "cell_type": "markdown",
   "metadata": {},
   "source": [
    "## SAX-VSM Ensemble"
   ]
  },
  {
   "cell_type": "code",
   "execution_count": 13,
   "metadata": {},
   "outputs": [],
   "source": [
    "sax_vsm = ex.classifiers.SAXVSMEnsembleClassifier(window_size=np.arange(0.1, 1, 0.1), n_bins=[6, 8, 12, 16, 20], strategy=[\"uniform\"])\n",
    "sax_vsm.fit(X_train, y_train);"
   ]
  },
  {
   "cell_type": "code",
   "execution_count": 14,
   "metadata": {},
   "outputs": [
    {
     "name": "stdout",
     "output_type": "stream",
     "text": [
      "SAX-VSM Ensemble accuracy: 0.9666666666666667\n"
     ]
    }
   ],
   "source": [
    "print(\"SAX-VSM Ensemble accuracy: \" + str(accuracy_score(y_test, sax_vsm.predict(X_test))))"
   ]
  },
  {
   "cell_type": "markdown",
   "metadata": {},
   "source": [
    "## WEASEL Ensemble"
   ]
  },
  {
   "cell_type": "code",
   "execution_count": 15,
   "metadata": {},
   "outputs": [],
   "source": [
    "weasel = ex.classifiers.WEASELEnsembleClassifier(window_sizes=np.arange(0.05, 1, 0.05), word_size=[2, 4, 6], norm_mean=[True, False])\n",
    "weasel.fit(X_train, y_train);"
   ]
  },
  {
   "cell_type": "code",
   "execution_count": 16,
   "metadata": {},
   "outputs": [
    {
     "name": "stdout",
     "output_type": "stream",
     "text": [
      "WEASEL Ensemble accuracy: 0.82\n"
     ]
    }
   ],
   "source": [
    "print(\"WEASEL Ensemble accuracy: \" + str(accuracy_score(y_test, weasel.predict(X_test))))"
   ]
  }
 ],
 "metadata": {
  "kernelspec": {
   "display_name": "Python 3 (ipykernel)",
   "language": "python",
   "name": "python3"
  },
  "language_info": {
   "codemirror_mode": {
    "name": "ipython",
    "version": 3
   },
   "file_extension": ".py",
   "mimetype": "text/x-python",
   "name": "python",
   "nbconvert_exporter": "python",
   "pygments_lexer": "ipython3",
   "version": "3.11.6"
  }
 },
 "nbformat": 4,
 "nbformat_minor": 4
}
